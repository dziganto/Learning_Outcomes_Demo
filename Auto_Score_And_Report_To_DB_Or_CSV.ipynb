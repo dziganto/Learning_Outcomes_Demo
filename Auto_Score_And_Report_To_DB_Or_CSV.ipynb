{
 "cells": [
  {
   "cell_type": "markdown",
   "metadata": {},
   "source": [
    "# Libraries"
   ]
  },
  {
   "cell_type": "code",
   "execution_count": 1,
   "metadata": {
    "collapsed": true
   },
   "outputs": [],
   "source": [
    "import os\n",
    "import pickle\n",
    "import pandas as pd\n",
    "from sklearn.metrics import log_loss\n",
    "from __future__ import print_function"
   ]
  },
  {
   "cell_type": "markdown",
   "metadata": {},
   "source": [
    "# Get Test Set Data"
   ]
  },
  {
   "cell_type": "code",
   "execution_count": 2,
   "metadata": {
    "collapsed": true
   },
   "outputs": [],
   "source": [
    "with open(\"/Users/davidziganto/Repositories/Synthetic_Dataset_Generation/pickle_files/X_test.pkl\", 'rb') as picklefile: \n",
    "    X_test = pickle.load(picklefile)\n",
    "    \n",
    "with open(\"/Users/davidziganto/Repositories/Synthetic_Dataset_Generation/pickle_files/y_test.pkl\", 'rb') as picklefile: \n",
    "    y_test = pickle.load(picklefile)"
   ]
  },
  {
   "cell_type": "markdown",
   "metadata": {},
   "source": [
    "# Locate Directory Function"
   ]
  },
  {
   "cell_type": "code",
   "execution_count": 3,
   "metadata": {},
   "outputs": [],
   "source": [
    "def find(name, path):\n",
    "    '''\n",
    "    Function to find path to directory\n",
    "    '''\n",
    "    for root, dirs, files in os.walk(path):\n",
    "        if name in dirs:\n",
    "            return os.path.join(root, name)"
   ]
  },
  {
   "cell_type": "markdown",
   "metadata": {},
   "source": [
    "# Locate Models"
   ]
  },
  {
   "cell_type": "code",
   "execution_count": 4,
   "metadata": {},
   "outputs": [
    {
     "data": {
      "text/plain": [
       "'/Users/davidziganto/Repositories/Learning_Outcomes_Demo/models'"
      ]
     },
     "execution_count": 4,
     "metadata": {},
     "output_type": "execute_result"
    }
   ],
   "source": [
    "# include the path to your Learning_Outcomes_Demo repo\n",
    "path = '/Users/davidziganto/Repositories/Learning_Outcomes_Demo/'\n",
    "\n",
    "# get paths for pickled models\n",
    "models = find('models', path)  \n",
    "models"
   ]
  },
  {
   "cell_type": "markdown",
   "metadata": {},
   "source": [
    "# Get Student Models, Score, & Classify"
   ]
  },
  {
   "cell_type": "code",
   "execution_count": 13,
   "metadata": {},
   "outputs": [],
   "source": [
    "mydict = {}\n",
    "for filename in os.listdir(models):\n",
    "    with open(os.path.join(models, filename), 'rb') as picklefile: \n",
    "        model = pickle.load(picklefile)\n",
    "        score = round(log_loss(y_test, model.predict_proba(X_test)), 3)\n",
    "    mydict[filename.split(\".\")[0]] = (score, None)"
   ]
  },
  {
   "cell_type": "code",
   "execution_count": 14,
   "metadata": {},
   "outputs": [
    {
     "data": {
      "text/plain": [
       "{'student1': (0.542, None), 'student2': (0.772, None)}"
      ]
     },
     "execution_count": 14,
     "metadata": {},
     "output_type": "execute_result"
    }
   ],
   "source": [
    "mydict"
   ]
  },
  {
   "cell_type": "code",
   "execution_count": 24,
   "metadata": {},
   "outputs": [],
   "source": [
    "df = pd.DataFrame(mydict)\n",
    "for i, _ in df.iteritems():\n",
    "    df.loc[1, 'student1'] = 'proficient' if df.loc[0, 'student1'] < 0.57 else 'satisfactory' if df.loc[0, 'student1'] < 0.6 else 'needs improvement'\n",
    "    df.loc[1, 'student2'] = 'proficient' if df.loc[0, 'student2'] < 0.57 else 'satisfactory' if df.loc[0, 'student2'] < 0.6 else 'needs improvement'\n",
    "df.index = ('log_loss', 'classification')"
   ]
  },
  {
   "cell_type": "code",
   "execution_count": 25,
   "metadata": {},
   "outputs": [
    {
     "data": {
      "text/html": [
       "<div>\n",
       "<style>\n",
       "    .dataframe thead tr:only-child th {\n",
       "        text-align: right;\n",
       "    }\n",
       "\n",
       "    .dataframe thead th {\n",
       "        text-align: left;\n",
       "    }\n",
       "\n",
       "    .dataframe tbody tr th {\n",
       "        vertical-align: top;\n",
       "    }\n",
       "</style>\n",
       "<table border=\"1\" class=\"dataframe\">\n",
       "  <thead>\n",
       "    <tr style=\"text-align: right;\">\n",
       "      <th></th>\n",
       "      <th>student1</th>\n",
       "      <th>student2</th>\n",
       "    </tr>\n",
       "  </thead>\n",
       "  <tbody>\n",
       "    <tr>\n",
       "      <th>log_loss</th>\n",
       "      <td>0.542</td>\n",
       "      <td>0.772</td>\n",
       "    </tr>\n",
       "    <tr>\n",
       "      <th>classification</th>\n",
       "      <td>proficient</td>\n",
       "      <td>needs improvement</td>\n",
       "    </tr>\n",
       "  </tbody>\n",
       "</table>\n",
       "</div>"
      ],
      "text/plain": [
       "                  student1           student2\n",
       "log_loss             0.542              0.772\n",
       "classification  proficient  needs improvement"
      ]
     },
     "execution_count": 25,
     "metadata": {},
     "output_type": "execute_result"
    }
   ],
   "source": [
    "df"
   ]
  },
  {
   "cell_type": "markdown",
   "metadata": {},
   "source": [
    "# Write To CSV"
   ]
  },
  {
   "cell_type": "code",
   "execution_count": 30,
   "metadata": {},
   "outputs": [],
   "source": [
    "df.to_csv(path_or_buf=os.getcwd() + \"/score_report.csv\")"
   ]
  },
  {
   "cell_type": "markdown",
   "metadata": {},
   "source": [
    "# Write To SQL Database"
   ]
  },
  {
   "cell_type": "code",
   "execution_count": null,
   "metadata": {},
   "outputs": [],
   "source": [
    "#df.to_sql(name='name of sql table', \n",
    "#          con='connection', \n",
    "#          schema='schema', \n",
    "#          if_exists='append', \n",
    "#          index=True, \n",
    "#          index_label=None, \n",
    "#          chunksize=None, \n",
    "#          dtype=None)"
   ]
  }
 ],
 "metadata": {
  "kernelspec": {
   "display_name": "Python 2",
   "language": "python",
   "name": "python2"
  },
  "language_info": {
   "codemirror_mode": {
    "name": "ipython",
    "version": 2
   },
   "file_extension": ".py",
   "mimetype": "text/x-python",
   "name": "python",
   "nbconvert_exporter": "python",
   "pygments_lexer": "ipython2",
   "version": "2.7.13"
  }
 },
 "nbformat": 4,
 "nbformat_minor": 2
}
