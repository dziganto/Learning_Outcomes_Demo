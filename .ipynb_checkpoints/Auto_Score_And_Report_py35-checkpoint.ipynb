{
 "cells": [
  {
   "cell_type": "markdown",
   "metadata": {},
   "source": [
    "# Libraries"
   ]
  },
  {
   "cell_type": "code",
   "execution_count": 1,
   "metadata": {
    "collapsed": true
   },
   "outputs": [],
   "source": [
    "import os\n",
    "import pickle\n",
    "import pandas as pd\n",
    "from sklearn.metrics import log_loss\n",
    "from __future__ import print_function"
   ]
  },
  {
   "cell_type": "markdown",
   "metadata": {},
   "source": [
    "# Get Test Set Data"
   ]
  },
  {
   "cell_type": "code",
   "execution_count": 2,
   "metadata": {
    "collapsed": true
   },
   "outputs": [],
   "source": [
    "with open(\"/Users/davidziganto/Repositories/Learning_Outcomes_Demo/data/py35/X_test_py35.pkl\", 'rb') as picklefile: \n",
    "    X_test = pickle.load(picklefile)\n",
    "    \n",
    "with open(\"/Users/davidziganto/Repositories/Learning_Outcomes_Demo/data/py35/y_test_py35.pkl\", 'rb') as picklefile: \n",
    "    y_test = pickle.load(picklefile)"
   ]
  },
  {
   "cell_type": "markdown",
   "metadata": {},
   "source": [
    "# Locate Directory Function"
   ]
  },
  {
   "cell_type": "code",
   "execution_count": 3,
   "metadata": {
    "collapsed": true
   },
   "outputs": [],
   "source": [
    "def find(name, path):\n",
    "    '''\n",
    "    Function to find path to directory\n",
    "    '''\n",
    "    for root, dirs, files in os.walk(path):\n",
    "        if name in dirs:\n",
    "            return os.path.join(root, name)"
   ]
  },
  {
   "cell_type": "markdown",
   "metadata": {},
   "source": [
    "# Locate Models"
   ]
  },
  {
   "cell_type": "code",
   "execution_count": 4,
   "metadata": {},
   "outputs": [
    {
     "data": {
      "text/plain": [
       "'/Users/davidziganto/Repositories/Learning_Outcomes_Demo/models/py35'"
      ]
     },
     "execution_count": 4,
     "metadata": {},
     "output_type": "execute_result"
    }
   ],
   "source": [
    "# include the path to your Learning_Outcomes_Demo repo\n",
    "path = '/Users/davidziganto/Repositories/Learning_Outcomes_Demo/'\n",
    "\n",
    "# get paths for pickled models\n",
    "models = find('models', path)  \n",
    "models = os.path.join(models, 'py35')\n",
    "models"
   ]
  },
  {
   "cell_type": "markdown",
   "metadata": {},
   "source": [
    "# Get Student Models, Score, & Classify"
   ]
  },
  {
   "cell_type": "code",
   "execution_count": 5,
   "metadata": {
    "collapsed": true
   },
   "outputs": [],
   "source": [
    "mydict = {}\n",
    "for filename in os.listdir(models):\n",
    "    with open(os.path.join(models, filename), 'rb') as picklefile: \n",
    "        model = pickle.load(picklefile)\n",
    "        score = round(log_loss(y_test, model.predict_proba(X_test)), 3)\n",
    "    mydict[filename.split(\".\")[0]] = (score, None)"
   ]
  },
  {
   "cell_type": "code",
   "execution_count": 6,
   "metadata": {},
   "outputs": [
    {
     "data": {
      "text/plain": [
       "{'student_1': (0.54200000000000004, None),\n",
       " 'student_2': (0.57499999999999996, None),\n",
       " 'student_3': (0.77200000000000002, None)}"
      ]
     },
     "execution_count": 6,
     "metadata": {},
     "output_type": "execute_result"
    }
   ],
   "source": [
    "mydict"
   ]
  },
  {
   "cell_type": "code",
   "execution_count": 7,
   "metadata": {},
   "outputs": [],
   "source": [
    "df = pd.DataFrame(mydict).transpose()\n",
    "for i, val in df.iterrows():\n",
    "    df.loc[i, 1] = 'proficient' if val[0] < 0.57 else 'satisfactory' if val[0] < 0.6 else 'needs improvement'\n",
    "df.columns = ('log_loss', 'classification')"
   ]
  },
  {
   "cell_type": "code",
   "execution_count": 8,
   "metadata": {},
   "outputs": [
    {
     "data": {
      "text/html": [
       "<div>\n",
       "<style>\n",
       "    .dataframe thead tr:only-child th {\n",
       "        text-align: right;\n",
       "    }\n",
       "\n",
       "    .dataframe thead th {\n",
       "        text-align: left;\n",
       "    }\n",
       "\n",
       "    .dataframe tbody tr th {\n",
       "        vertical-align: top;\n",
       "    }\n",
       "</style>\n",
       "<table border=\"1\" class=\"dataframe\">\n",
       "  <thead>\n",
       "    <tr style=\"text-align: right;\">\n",
       "      <th></th>\n",
       "      <th>log_loss</th>\n",
       "      <th>classification</th>\n",
       "    </tr>\n",
       "  </thead>\n",
       "  <tbody>\n",
       "    <tr>\n",
       "      <th>student_1</th>\n",
       "      <td>0.542</td>\n",
       "      <td>proficient</td>\n",
       "    </tr>\n",
       "    <tr>\n",
       "      <th>student_2</th>\n",
       "      <td>0.575</td>\n",
       "      <td>satisfactory</td>\n",
       "    </tr>\n",
       "    <tr>\n",
       "      <th>student_3</th>\n",
       "      <td>0.772</td>\n",
       "      <td>needs improvement</td>\n",
       "    </tr>\n",
       "  </tbody>\n",
       "</table>\n",
       "</div>"
      ],
      "text/plain": [
       "           log_loss     classification\n",
       "student_1     0.542         proficient\n",
       "student_2     0.575       satisfactory\n",
       "student_3     0.772  needs improvement"
      ]
     },
     "execution_count": 8,
     "metadata": {},
     "output_type": "execute_result"
    }
   ],
   "source": [
    "df"
   ]
  },
  {
   "cell_type": "markdown",
   "metadata": {},
   "source": [
    "# Write To CSV"
   ]
  },
  {
   "cell_type": "code",
   "execution_count": 9,
   "metadata": {
    "collapsed": true
   },
   "outputs": [],
   "source": [
    "df.to_csv(path_or_buf=os.getcwd() + \"/score_report_py35.csv\")"
   ]
  },
  {
   "cell_type": "markdown",
   "metadata": {},
   "source": [
    "# Write To SQL Database"
   ]
  },
  {
   "cell_type": "code",
   "execution_count": 10,
   "metadata": {
    "collapsed": true
   },
   "outputs": [],
   "source": [
    "#df.to_sql(name='name of sql table', \n",
    "#          con='connection', \n",
    "#          schema='schema', \n",
    "#          if_exists='append', \n",
    "#          index=True, \n",
    "#          index_label=None, \n",
    "#          chunksize=None, \n",
    "#          dtype=None)"
   ]
  }
 ],
 "metadata": {
  "kernelspec": {
   "display_name": "py35",
   "language": "python",
   "name": "py35"
  },
  "language_info": {
   "codemirror_mode": {
    "name": "ipython",
    "version": 3
   },
   "file_extension": ".py",
   "mimetype": "text/x-python",
   "name": "python",
   "nbconvert_exporter": "python",
   "pygments_lexer": "ipython3",
   "version": "3.5.3"
  }
 },
 "nbformat": 4,
 "nbformat_minor": 2
}
